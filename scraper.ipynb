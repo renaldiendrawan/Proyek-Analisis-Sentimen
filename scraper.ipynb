{
  "nbformat": 4,
  "nbformat_minor": 0,
  "metadata": {
    "colab": {
      "provenance": []
    },
    "kernelspec": {
      "name": "python3",
      "display_name": "Python 3"
    },
    "language_info": {
      "name": "python"
    }
  },
  "cells": [
    {
      "cell_type": "markdown",
      "source": [
        "# SCRAPER GOOGLE PLAY STORE"
      ],
      "metadata": {
        "id": "ufcAc-dAauPL"
      }
    },
    {
      "cell_type": "markdown",
      "source": [
        "Mengambil >10.000 ulasan dari aplikasi di Play Store dan menyimpannya ke CSV"
      ],
      "metadata": {
        "id": "AcagO6oUawWs"
      }
    },
    {
      "cell_type": "code",
      "source": [
        "!pip install google-play-scraper"
      ],
      "metadata": {
        "colab": {
          "base_uri": "https://localhost:8080/"
        },
        "id": "BND6RrxhbE3R",
        "outputId": "c6202918-8da2-490f-c17e-ac78df70825c"
      },
      "execution_count": 2,
      "outputs": [
        {
          "output_type": "stream",
          "name": "stdout",
          "text": [
            "Collecting google-play-scraper\n",
            "  Downloading google_play_scraper-1.2.7-py3-none-any.whl.metadata (50 kB)\n",
            "\u001b[?25l     \u001b[90m━━━━━━━━━━━━━━━━━━━━━━━━━━━━━━━━━━━━━━━━\u001b[0m \u001b[32m0.0/50.2 kB\u001b[0m \u001b[31m?\u001b[0m eta \u001b[36m-:--:--\u001b[0m\r\u001b[2K     \u001b[90m━━━━━━━━━━━━━━━━━━━━━━━━━━━━━━━━━━━━━━━━\u001b[0m \u001b[32m50.2/50.2 kB\u001b[0m \u001b[31m2.0 MB/s\u001b[0m eta \u001b[36m0:00:00\u001b[0m\n",
            "\u001b[?25hDownloading google_play_scraper-1.2.7-py3-none-any.whl (28 kB)\n",
            "Installing collected packages: google-play-scraper\n",
            "Successfully installed google-play-scraper-1.2.7\n"
          ]
        }
      ]
    },
    {
      "cell_type": "code",
      "source": [
        "import csv\n",
        "from google_play_scraper import Sort, reviews\n",
        "from datetime import datetime\n",
        "import pandas as pd\n",
        "import re\n",
        "from textblob import TextBlob"
      ],
      "metadata": {
        "id": "o16WGs-Ga8du"
      },
      "execution_count": 3,
      "outputs": []
    },
    {
      "cell_type": "markdown",
      "source": [
        "## Parameter aplikasi"
      ],
      "metadata": {
        "id": "Z2WJ2QBxbRRC"
      }
    },
    {
      "cell_type": "code",
      "source": [
        "package_name = 'com.dafturn.mypertamina'\n",
        "language = 'id'\n",
        "country = 'id'\n",
        "max_reviews = 10000"
      ],
      "metadata": {
        "id": "IzHezqAEbYQ_"
      },
      "execution_count": 4,
      "outputs": []
    },
    {
      "cell_type": "markdown",
      "source": [
        "## Ambil data"
      ],
      "metadata": {
        "id": "yzX733etLhmU"
      }
    },
    {
      "cell_type": "code",
      "source": [
        "all_reviews = []\n",
        "continuation_token = None\n",
        "\n",
        "print(\"Mengambil ulasan...\")\n",
        "\n",
        "while len(all_reviews) < max_reviews:\n",
        "    result, continuation_token = reviews(\n",
        "        package_name,\n",
        "        lang=language,\n",
        "        country=country,\n",
        "        sort=Sort.NEWEST,\n",
        "        count=200,\n",
        "        continuation_token=continuation_token\n",
        "    )\n",
        "    all_reviews.extend(result)\n",
        "    print(f\"Terkumpul: {len(all_reviews)}\")\n",
        "    if not continuation_token:\n",
        "        break"
      ],
      "metadata": {
        "id": "szsV1aLNLg_y",
        "colab": {
          "base_uri": "https://localhost:8080/"
        },
        "outputId": "410e4288-38ed-4200-c372-311608e35308"
      },
      "execution_count": 6,
      "outputs": [
        {
          "output_type": "stream",
          "name": "stdout",
          "text": [
            "Mengambil ulasan...\n",
            "Terkumpul: 200\n",
            "Terkumpul: 400\n",
            "Terkumpul: 600\n",
            "Terkumpul: 800\n",
            "Terkumpul: 1000\n",
            "Terkumpul: 1200\n",
            "Terkumpul: 1400\n",
            "Terkumpul: 1600\n",
            "Terkumpul: 1800\n",
            "Terkumpul: 2000\n",
            "Terkumpul: 2200\n",
            "Terkumpul: 2400\n",
            "Terkumpul: 2600\n",
            "Terkumpul: 2800\n",
            "Terkumpul: 3000\n",
            "Terkumpul: 3200\n",
            "Terkumpul: 3400\n",
            "Terkumpul: 3600\n",
            "Terkumpul: 3800\n",
            "Terkumpul: 4000\n",
            "Terkumpul: 4200\n",
            "Terkumpul: 4400\n",
            "Terkumpul: 4600\n",
            "Terkumpul: 4800\n",
            "Terkumpul: 5000\n",
            "Terkumpul: 5200\n",
            "Terkumpul: 5400\n",
            "Terkumpul: 5600\n",
            "Terkumpul: 5800\n",
            "Terkumpul: 6000\n",
            "Terkumpul: 6200\n",
            "Terkumpul: 6400\n",
            "Terkumpul: 6600\n",
            "Terkumpul: 6800\n",
            "Terkumpul: 7000\n",
            "Terkumpul: 7200\n",
            "Terkumpul: 7400\n",
            "Terkumpul: 7600\n",
            "Terkumpul: 7800\n",
            "Terkumpul: 8000\n",
            "Terkumpul: 8200\n",
            "Terkumpul: 8400\n",
            "Terkumpul: 8600\n",
            "Terkumpul: 8800\n",
            "Terkumpul: 9000\n",
            "Terkumpul: 9200\n",
            "Terkumpul: 9400\n",
            "Terkumpul: 9600\n",
            "Terkumpul: 9800\n",
            "Terkumpul: 10000\n"
          ]
        }
      ]
    },
    {
      "cell_type": "markdown",
      "source": [
        "## Simpan ke DataFrame"
      ],
      "metadata": {
        "id": "1jG-huGhuL-G"
      }
    },
    {
      "cell_type": "code",
      "source": [
        "reviews_df = pd.DataFrame(all_reviews)"
      ],
      "metadata": {
        "id": "ztG9juYruLbr"
      },
      "execution_count": 7,
      "outputs": []
    },
    {
      "cell_type": "markdown",
      "source": [
        "## Filter kolom penting"
      ],
      "metadata": {
        "id": "yiahnMWAuW_o"
      }
    },
    {
      "cell_type": "code",
      "source": [
        "filtered_df = reviews_df[['content', 'score', 'at']]\n",
        "filtered_df = filtered_df.rename(columns={\n",
        "    'content': 'review',\n",
        "    'score': 'rating',\n",
        "    'at': 'timestamp'\n",
        "})"
      ],
      "metadata": {
        "id": "KFnpLkCeuY3V"
      },
      "execution_count": 8,
      "outputs": []
    },
    {
      "cell_type": "markdown",
      "source": [
        "## Simpan ke CSV"
      ],
      "metadata": {
        "id": "Oy2HaJqPOl5X"
      }
    },
    {
      "cell_type": "code",
      "source": [
        "filename = f\"dataset_ulasan_{package_name.replace('.', '_')}.csv\"\n",
        "filtered_df.to_csv(filename, index=False, encoding='utf-8')\n",
        "\n",
        "print(f\"Selesai. Total ulasan: {len(filtered_df)} disimpan di {filename}\")"
      ],
      "metadata": {
        "colab": {
          "base_uri": "https://localhost:8080/"
        },
        "id": "g1zdNtTSOm0T",
        "outputId": "2ee6d1cc-90b3-4ba9-a51a-30cb5de7a077"
      },
      "execution_count": 9,
      "outputs": [
        {
          "output_type": "stream",
          "name": "stdout",
          "text": [
            "Selesai. Total ulasan: 10000 disimpan di dataset_ulasan_com_dafturn_mypertamina.csv\n"
          ]
        }
      ]
    }
  ]
}