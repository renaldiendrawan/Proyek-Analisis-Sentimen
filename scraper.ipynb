{
  "nbformat": 4,
  "nbformat_minor": 0,
  "metadata": {
    "colab": {
      "provenance": []
    },
    "kernelspec": {
      "name": "python3",
      "display_name": "Python 3"
    },
    "language_info": {
      "name": "python"
    }
  },
  "cells": [
    {
      "cell_type": "markdown",
      "source": [
        "# Import Library"
      ],
      "metadata": {
        "id": "gKXnUvvXGiGi"
      }
    },
    {
      "cell_type": "code",
      "execution_count": 13,
      "metadata": {
        "colab": {
          "base_uri": "https://localhost:8080/"
        },
        "id": "ZSj7f78HGadr",
        "outputId": "8835dca7-9559-4317-c8f4-05fe588b7bca"
      },
      "outputs": [
        {
          "output_type": "stream",
          "name": "stdout",
          "text": [
            "Requirement already satisfied: google-play-scraper in /usr/local/lib/python3.11/dist-packages (1.2.7)\n"
          ]
        }
      ],
      "source": [
        "!pip install google-play-scraper\n",
        "from google_play_scraper import reviews, Sort\n",
        "import pandas as pd\n",
        "import re\n",
        "from textblob import TextBlob  # Untuk analisis sentimen sederhana\n"
      ]
    },
    {
      "cell_type": "markdown",
      "source": [
        "# Scraping ulasan aplikasi MyPertamina\n"
      ],
      "metadata": {
        "id": "ig6iU6fAHM1o"
      }
    },
    {
      "cell_type": "code",
      "source": [
        "app_id = \"com.dafturn.mypertamina\"\n",
        "\n",
        "print(\"Scraping ulasan...\")\n",
        "reviews_data, _ = reviews(\n",
        "    app_id,\n",
        "    lang=\"id\",  # Bahasa Indonesia\n",
        "    country=\"id\",  # Indonesia\n",
        "    count=3000,  # Ambil 3.000 ulasan\n",
        "    sort=Sort.NEWEST  # Urutkan berdasarkan yang terbaru, menggunakan Sort.NEWEST\n",
        ")\n"
      ],
      "metadata": {
        "colab": {
          "base_uri": "https://localhost:8080/"
        },
        "id": "n46Ehe_GHOI4",
        "outputId": "6330a1ca-be8a-4f58-c4ac-2e8721fb2903"
      },
      "execution_count": 14,
      "outputs": [
        {
          "output_type": "stream",
          "name": "stdout",
          "text": [
            "Scraping ulasan...\n"
          ]
        }
      ]
    },
    {
      "cell_type": "markdown",
      "source": [
        "# Konversi hasil scraping ke DataFrame\n"
      ],
      "metadata": {
        "id": "yzX733etLhmU"
      }
    },
    {
      "cell_type": "code",
      "source": [
        "df = pd.DataFrame(reviews_data)[[\"content\", \"score\"]]\n",
        "df.columns = [\"review\", \"rating\"]\n"
      ],
      "metadata": {
        "id": "szsV1aLNLg_y"
      },
      "execution_count": 15,
      "outputs": []
    },
    {
      "cell_type": "markdown",
      "source": [
        "# Pembersihan Teks\n"
      ],
      "metadata": {
        "id": "1jG-huGhuL-G"
      }
    },
    {
      "cell_type": "code",
      "source": [
        "def clean_text(text):\n",
        "    text = text.lower()  # Ubah ke huruf kecil\n",
        "    text = re.sub(r\"http\\S+|www\\S+|https\\S+\", \"\", text)  # Hapus link\n",
        "    text = re.sub(r\"\\d+\", \"\", text)  # Hapus angka\n",
        "    text = re.sub(r\"[^\\w\\s]\", \"\", text)  # Hapus karakter spesial\n",
        "    return text.strip()\n",
        "\n",
        "df[\"cleaned_review\"] = df[\"review\"].astype(str).apply(clean_text)\n"
      ],
      "metadata": {
        "id": "ztG9juYruLbr"
      },
      "execution_count": 16,
      "outputs": []
    },
    {
      "cell_type": "markdown",
      "source": [
        "# Analisis Sentimen Lexicon-Based (TextBlob - sementara)\n"
      ],
      "metadata": {
        "id": "yiahnMWAuW_o"
      }
    },
    {
      "cell_type": "code",
      "source": [
        "def get_sentiment(text):\n",
        "    analysis = TextBlob(text)\n",
        "    score = analysis.sentiment.polarity  # Skor sentimen\n",
        "    if score > 0:\n",
        "        return \"positif\"\n",
        "    elif score < 0:\n",
        "        return \"negatif\"\n",
        "    else:\n",
        "        return \"netral\"\n",
        "\n",
        "df[\"sentiment\"] = df[\"cleaned_review\"].apply(get_sentiment)\n"
      ],
      "metadata": {
        "id": "KFnpLkCeuY3V"
      },
      "execution_count": 25,
      "outputs": []
    },
    {
      "cell_type": "markdown",
      "source": [
        "# Simpan dataset ke CSV"
      ],
      "metadata": {
        "id": "Oy2HaJqPOl5X"
      }
    },
    {
      "cell_type": "code",
      "source": [
        "df.to_csv(\"dataset.csv\", index=False, encoding=\"utf-8\")\n",
        "print(\"Scraping selesai! Data tersimpan di dataset.csv\")\n"
      ],
      "metadata": {
        "colab": {
          "base_uri": "https://localhost:8080/"
        },
        "id": "g1zdNtTSOm0T",
        "outputId": "cfba11b8-654d-4670-ca88-b8a346109178"
      },
      "execution_count": 26,
      "outputs": [
        {
          "output_type": "stream",
          "name": "stdout",
          "text": [
            "Scraping selesai! Data tersimpan di dataset.csv\n"
          ]
        }
      ]
    }
  ]
}